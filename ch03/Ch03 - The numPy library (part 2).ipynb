{
 "cells": [
  {
   "cell_type": "markdown",
   "metadata": {},
   "source": [
    "### Indexing, Slicing and Iterating"
   ]
  },
  {
   "cell_type": "code",
   "execution_count": 2,
   "metadata": {
    "collapsed": true
   },
   "outputs": [],
   "source": [
    "import numpy as np"
   ]
  },
  {
   "cell_type": "code",
   "execution_count": 3,
   "metadata": {},
   "outputs": [
    {
     "name": "stdout",
     "output_type": "stream",
     "text": [
      "[10 11 12 13 14 15]\n",
      "14\n",
      "15\n",
      "10\n"
     ]
    }
   ],
   "source": [
    "#indexing\n",
    "a = np.arange(10,16)\n",
    "print(a)\n",
    "print(a[4])\n",
    "print(a[-1])\n",
    "print(a[-6])"
   ]
  },
  {
   "cell_type": "code",
   "execution_count": 4,
   "metadata": {},
   "outputs": [
    {
     "data": {
      "text/plain": [
       "array([11, 13, 14])"
      ]
     },
     "execution_count": 4,
     "metadata": {},
     "output_type": "execute_result"
    }
   ],
   "source": [
    "a[[1, 3, 4]]"
   ]
  },
  {
   "cell_type": "code",
   "execution_count": 5,
   "metadata": {},
   "outputs": [
    {
     "name": "stdout",
     "output_type": "stream",
     "text": [
      "[[10 11 12]\n",
      " [13 14 15]\n",
      " [16 17 18]]\n",
      "15\n"
     ]
    }
   ],
   "source": [
    "A = np.arange(10,19).reshape((3,3))\n",
    "print(A)\n",
    "print(A[1,2]) #A[row,column]"
   ]
  },
  {
   "cell_type": "code",
   "execution_count": 6,
   "metadata": {},
   "outputs": [
    {
     "name": "stdout",
     "output_type": "stream",
     "text": [
      "[10 11 12 13 14 15]\n",
      "[11 12 13 14]\n"
     ]
    }
   ],
   "source": [
    "#slicing\n",
    "\n",
    "a = np.arange(10,16)\n",
    "print(a)\n",
    "print(a[1:5])\n",
    "#remember that the first number is inclusive and 2nd is exclusive"
   ]
  },
  {
   "cell_type": "code",
   "execution_count": 7,
   "metadata": {},
   "outputs": [
    {
     "data": {
      "text/plain": [
       "array([11, 13])"
      ]
     },
     "execution_count": 7,
     "metadata": {},
     "output_type": "execute_result"
    }
   ],
   "source": [
    "#if you want extract an item from a previous portion and skip a\n",
    "#specific number of following items, then extract the next and skip\n",
    "#again, you can use a 3rd number that defines the gap in the \n",
    "#sequence of elements. For, ex: a value of 2 will skip every OTHER\n",
    "#element in the array --> 2nd number is STILL exclusive\n",
    "a[1:5:2] "
   ]
  },
  {
   "cell_type": "code",
   "execution_count": 8,
   "metadata": {},
   "outputs": [
    {
     "name": "stdout",
     "output_type": "stream",
     "text": [
      "[10 12 14]\n",
      "[10 12 14]\n",
      "[10 11 12 13 14]\n",
      "[10 11 12 13 14 15]\n"
     ]
    }
   ],
   "source": [
    "#if we omit the first number we begin at the initial index: 0\n",
    "#if we omit the second it takes that as the maximum value in the narray\n",
    "print(a[::2]) #this one does first to last with gaps of 2\n",
    "print(a[:5:2]) #this does the same, just explicitly\n",
    "print(a[:5:]) \n",
    "print(a[::]) #takes beginning to end"
   ]
  },
  {
   "cell_type": "code",
   "execution_count": 9,
   "metadata": {},
   "outputs": [
    {
     "name": "stdout",
     "output_type": "stream",
     "text": [
      "[[10 11 12]\n",
      " [13 14 15]\n",
      " [16 17 18]]\n",
      "[10 11 12]\n",
      "[10 13 16]\n",
      "15\n"
     ]
    }
   ],
   "source": [
    "A = np.arange(10,19).reshape((3,3)) #gives 3x3 matrix of the numbers\n",
    "print(A)\n",
    "print(A[0,:]) #A[row,col] so first row, all cols\n",
    "print(A[:,0]) #All rows, first col\n",
    "print(A[1,2]) #selects 1 element from 2nd row 3rd col"
   ]
  },
  {
   "cell_type": "code",
   "execution_count": 10,
   "metadata": {},
   "outputs": [
    {
     "data": {
      "text/plain": [
       "array([[10, 11],\n",
       "       [13, 14]])"
      ]
     },
     "execution_count": 10,
     "metadata": {},
     "output_type": "execute_result"
    }
   ],
   "source": [
    "A[0:2, 0:2] #can also use slicing to extract a smaller matrix"
   ]
  },
  {
   "cell_type": "code",
   "execution_count": 11,
   "metadata": {},
   "outputs": [
    {
     "data": {
      "text/plain": [
       "array([[10, 11],\n",
       "       [16, 17]])"
      ]
     },
     "execution_count": 11,
     "metadata": {},
     "output_type": "execute_result"
    }
   ],
   "source": [
    "A[[0,2], 0:2] #we can also specify an array of indexes"
   ]
  },
  {
   "cell_type": "code",
   "execution_count": 12,
   "metadata": {},
   "outputs": [
    {
     "name": "stdout",
     "output_type": "stream",
     "text": [
      "10\n",
      "11\n",
      "12\n",
      "13\n",
      "14\n",
      "15\n"
     ]
    }
   ],
   "source": [
    "for i in a:\n",
    "    print(i)"
   ]
  },
  {
   "cell_type": "code",
   "execution_count": 13,
   "metadata": {},
   "outputs": [
    {
     "name": "stdout",
     "output_type": "stream",
     "text": [
      "[10 11 12]\n",
      "[13 14 15]\n",
      "[16 17 18]\n"
     ]
    }
   ],
   "source": [
    "for row in A:\n",
    "    print(row)"
   ]
  },
  {
   "cell_type": "code",
   "execution_count": 14,
   "metadata": {},
   "outputs": [
    {
     "name": "stdout",
     "output_type": "stream",
     "text": [
      "10\n",
      "11\n",
      "12\n",
      "13\n",
      "14\n",
      "15\n",
      "16\n",
      "17\n",
      "18\n"
     ]
    }
   ],
   "source": [
    "for item in A.flat: #does iteration element by element\n",
    "    print(item)"
   ]
  },
  {
   "cell_type": "code",
   "execution_count": 15,
   "metadata": {},
   "outputs": [
    {
     "data": {
      "text/plain": [
       "array([ 13.,  14.,  15.])"
      ]
     },
     "execution_count": 15,
     "metadata": {},
     "output_type": "execute_result"
    }
   ],
   "source": [
    "np.apply_along_axis(np.mean, axis=0, arr=A) #axis is 0 for col by col"
   ]
  },
  {
   "cell_type": "code",
   "execution_count": 16,
   "metadata": {},
   "outputs": [
    {
     "data": {
      "text/plain": [
       "array([ 11.,  14.,  17.])"
      ]
     },
     "execution_count": 16,
     "metadata": {},
     "output_type": "execute_result"
    }
   ],
   "source": [
    "np.apply_along_axis(np.mean, axis=1, arr=A) #axis is 1 for row by row"
   ]
  },
  {
   "cell_type": "code",
   "execution_count": 17,
   "metadata": {},
   "outputs": [
    {
     "data": {
      "text/plain": [
       "array([[ 5. ,  5.5,  6. ],\n",
       "       [ 6.5,  7. ,  7.5],\n",
       "       [ 8. ,  8.5,  9. ]])"
      ]
     },
     "execution_count": 17,
     "metadata": {},
     "output_type": "execute_result"
    }
   ],
   "source": [
    "def foo(x):\n",
    "    return x/2\n",
    "\n",
    "np.apply_along_axis(foo, axis=1, arr=A) #can even use our own defined functions in apply_along_axis"
   ]
  },
  {
   "cell_type": "code",
   "execution_count": 18,
   "metadata": {},
   "outputs": [
    {
     "data": {
      "text/plain": [
       "array([[ 5. ,  5.5,  6. ],\n",
       "       [ 6.5,  7. ,  7.5],\n",
       "       [ 8. ,  8.5,  9. ]])"
      ]
     },
     "execution_count": 18,
     "metadata": {},
     "output_type": "execute_result"
    }
   ],
   "source": [
    "np.apply_along_axis(foo, axis=0, arr=A)"
   ]
  },
  {
   "cell_type": "markdown",
   "metadata": {},
   "source": [
    "### Conditions and Boolean Arrays"
   ]
  },
  {
   "cell_type": "code",
   "execution_count": 19,
   "metadata": {},
   "outputs": [
    {
     "data": {
      "text/plain": [
       "array([[ 0.59585235,  0.78624123,  0.74885126,  0.61940285],\n",
       "       [ 0.61078107,  0.93629677,  0.14511127,  0.87493872],\n",
       "       [ 0.99345743,  0.67712697,  0.67822064,  0.97316775],\n",
       "       [ 0.32880271,  0.43868504,  0.34330718,  0.66347493]])"
      ]
     },
     "execution_count": 19,
     "metadata": {},
     "output_type": "execute_result"
    }
   ],
   "source": [
    "A = np.random.random((4,4))\n",
    "A"
   ]
  },
  {
   "cell_type": "code",
   "execution_count": 20,
   "metadata": {},
   "outputs": [
    {
     "data": {
      "text/plain": [
       "array([[False, False, False, False],\n",
       "       [False, False,  True, False],\n",
       "       [False, False, False, False],\n",
       "       [ True,  True,  True, False]], dtype=bool)"
      ]
     },
     "execution_count": 20,
     "metadata": {},
     "output_type": "execute_result"
    }
   ],
   "source": [
    "A < 0.5 #returns the array as a boolean where the operation was tested"
   ]
  },
  {
   "cell_type": "code",
   "execution_count": 21,
   "metadata": {},
   "outputs": [
    {
     "data": {
      "text/plain": [
       "array([ 0.14511127,  0.32880271,  0.43868504,  0.34330718])"
      ]
     },
     "execution_count": 21,
     "metadata": {},
     "output_type": "execute_result"
    }
   ],
   "source": [
    "A[A < 0.5] #inserting this conition will allow you to extract those\n",
    "            #that satisfy the condition"
   ]
  },
  {
   "cell_type": "markdown",
   "metadata": {},
   "source": [
    "### Shape manipulation"
   ]
  },
  {
   "cell_type": "code",
   "execution_count": 22,
   "metadata": {},
   "outputs": [
    {
     "name": "stdout",
     "output_type": "stream",
     "text": [
      "[ 0.91463193  0.77300451  0.02386254  0.45327451  0.14558055  0.18436907\n",
      "  0.04846919  0.93462937  0.28051781  0.77101069  0.70140839  0.22224186]\n"
     ]
    },
    {
     "data": {
      "text/plain": [
       "array([[ 0.91463193,  0.77300451,  0.02386254,  0.45327451],\n",
       "       [ 0.14558055,  0.18436907,  0.04846919,  0.93462937],\n",
       "       [ 0.28051781,  0.77101069,  0.70140839,  0.22224186]])"
      ]
     },
     "execution_count": 22,
     "metadata": {},
     "output_type": "execute_result"
    }
   ],
   "source": [
    "a = np.random.random(12) #gives 1-D array\n",
    "print(a)\n",
    "A = a.reshape(3,4) #reshapes to 3 rows, 4 cols\n",
    "A"
   ]
  },
  {
   "cell_type": "code",
   "execution_count": 23,
   "metadata": {},
   "outputs": [
    {
     "data": {
      "text/plain": [
       "array([[ 0.91463193,  0.77300451,  0.02386254,  0.45327451],\n",
       "       [ 0.14558055,  0.18436907,  0.04846919,  0.93462937],\n",
       "       [ 0.28051781,  0.77101069,  0.70140839,  0.22224186]])"
      ]
     },
     "execution_count": 23,
     "metadata": {},
     "output_type": "execute_result"
    }
   ],
   "source": [
    "#if you want to modify the object by modifying the shape, you have\n",
    "#to assign a tuple containing the new dimensions directly to its shape\n",
    "#attribute\n",
    "a.shape = (3,4)\n",
    "a"
   ]
  },
  {
   "cell_type": "code",
   "execution_count": 24,
   "metadata": {},
   "outputs": [
    {
     "data": {
      "text/plain": [
       "array([ 0.91463193,  0.77300451,  0.02386254,  0.45327451,  0.14558055,\n",
       "        0.18436907,  0.04846919,  0.93462937,  0.28051781,  0.77101069,\n",
       "        0.70140839,  0.22224186])"
      ]
     },
     "execution_count": 24,
     "metadata": {},
     "output_type": "execute_result"
    }
   ],
   "source": [
    "#this method converts the shape back to a 1-D array\n",
    "a = a.ravel()\n",
    "a"
   ]
  },
  {
   "cell_type": "code",
   "execution_count": 25,
   "metadata": {},
   "outputs": [
    {
     "data": {
      "text/plain": [
       "array([ 0.91463193,  0.77300451,  0.02386254,  0.45327451,  0.14558055,\n",
       "        0.18436907,  0.04846919,  0.93462937,  0.28051781,  0.77101069,\n",
       "        0.70140839,  0.22224186])"
      ]
     },
     "execution_count": 25,
     "metadata": {},
     "output_type": "execute_result"
    }
   ],
   "source": [
    "#this acts directly on the shape attribute of array itself\n",
    "a.shape = (12)\n",
    "a"
   ]
  },
  {
   "cell_type": "code",
   "execution_count": 31,
   "metadata": {},
   "outputs": [
    {
     "name": "stdout",
     "output_type": "stream",
     "text": [
      "[[ 0.91463193  0.77300451  0.02386254  0.45327451]\n",
      " [ 0.14558055  0.18436907  0.04846919  0.93462937]\n",
      " [ 0.28051781  0.77101069  0.70140839  0.22224186]]\n"
     ]
    },
    {
     "data": {
      "text/plain": [
       "array([[ 0.91463193,  0.14558055,  0.28051781],\n",
       "       [ 0.77300451,  0.18436907,  0.77101069],\n",
       "       [ 0.02386254,  0.04846919,  0.70140839],\n",
       "       [ 0.45327451,  0.93462937,  0.22224186]])"
      ]
     },
     "execution_count": 31,
     "metadata": {},
     "output_type": "execute_result"
    }
   ],
   "source": [
    "#mathematically this is (i,j) -> (j,i)\n",
    "print(A)\n",
    "A.transpose()"
   ]
  },
  {
   "cell_type": "code",
   "execution_count": 41,
   "metadata": {},
   "outputs": [
    {
     "name": "stdout",
     "output_type": "stream",
     "text": [
      "A = \n",
      " [[ 1.  1.  1.]\n",
      " [ 1.  1.  1.]\n",
      " [ 1.  1.  1.]]\n",
      "B= \n",
      " [[ 0.  0.  0.]\n",
      " [ 0.  0.  0.]\n",
      " [ 0.  0.  0.]]\n",
      "vstack A,B= \n",
      " [[ 1.  1.  1.]\n",
      " [ 1.  1.  1.]\n",
      " [ 1.  1.  1.]\n",
      " [ 0.  0.  0.]\n",
      " [ 0.  0.  0.]\n",
      " [ 0.  0.  0.]]\n"
     ]
    }
   ],
   "source": [
    "#Array Manipulation\n",
    "\n",
    "A = np.ones((3,3))\n",
    "B = np.zeros((3,3))\n",
    "print(\"A =\",\"\\n\", A)\n",
    "print(\"B=\",\"\\n\",  B)\n",
    "vstack = np.vstack((A,B)) #vertical stacking\n",
    "print(\"vstack A,B=\",\"\\n\", vstack)\n"
   ]
  },
  {
   "cell_type": "code",
   "execution_count": 43,
   "metadata": {},
   "outputs": [
    {
     "name": "stdout",
     "output_type": "stream",
     "text": [
      "this is horizontal= \n",
      " [[ 1.  1.  1.  0.  0.  0.]\n",
      " [ 1.  1.  1.  0.  0.  0.]\n",
      " [ 1.  1.  1.  0.  0.  0.]]\n"
     ]
    }
   ],
   "source": [
    "hstack = np.hstack((A,B))\n",
    "print(\"this is horizontal=\" , \"\\n\", hstack)"
   ]
  },
  {
   "cell_type": "code",
   "execution_count": 46,
   "metadata": {},
   "outputs": [
    {
     "name": "stdout",
     "output_type": "stream",
     "text": [
      "a =  \n",
      " [0 1 2]\n",
      "b =  \n",
      " [3 4 5]\n",
      "c =  \n",
      " [6 7 8]\n",
      "col_stack = \n",
      " [[0 3 6]\n",
      " [1 4 7]\n",
      " [2 5 8]]\n"
     ]
    },
    {
     "data": {
      "text/plain": [
       "(3, 3)"
      ]
     },
     "execution_count": 46,
     "metadata": {},
     "output_type": "execute_result"
    }
   ],
   "source": [
    "a = np.array([0,1,2])\n",
    "print(\"a = \", \"\\n\", a)\n",
    "b = np.array([3,4,5])\n",
    "print(\"b = \", \"\\n\", b)\n",
    "c = np.array([6,7,8])\n",
    "print(\"c = \", \"\\n\", c)\n",
    "\n",
    "col_stack = np.column_stack((a,b,c))\n",
    "print(\"col_stack =\", '\\n', col_stack)\n",
    "#generally these are made from 1-D arrays that are stacked as cols or\n",
    "#rows in order to form a new n-D array, as seen by ##.shape\n",
    "col_stack.shape"
   ]
  },
  {
   "cell_type": "code",
   "execution_count": 47,
   "metadata": {},
   "outputs": [
    {
     "name": "stdout",
     "output_type": "stream",
     "text": [
      "row stack =  \n",
      " [[0 1 2]\n",
      " [3 4 5]\n",
      " [6 7 8]]\n"
     ]
    },
    {
     "data": {
      "text/plain": [
       "(3, 3)"
      ]
     },
     "execution_count": 47,
     "metadata": {},
     "output_type": "execute_result"
    }
   ],
   "source": [
    "row_stack = np.row_stack((a,b,c))\n",
    "print(\"row stack = \", '\\n', row_stack)\n",
    "row_stack.shape\n"
   ]
  },
  {
   "cell_type": "markdown",
   "metadata": {},
   "source": [
    "### Splitting arrays"
   ]
  },
  {
   "cell_type": "code",
   "execution_count": 51,
   "metadata": {},
   "outputs": [
    {
     "name": "stdout",
     "output_type": "stream",
     "text": [
      "A= \n",
      " [[ 0  1  2  3]\n",
      " [ 4  5  6  7]\n",
      " [ 8  9 10 11]\n",
      " [12 13 14 15]]\n",
      "B =  \n",
      " [[ 0  1]\n",
      " [ 4  5]\n",
      " [ 8  9]\n",
      " [12 13]]\n",
      "C =  \n",
      " [[ 2  3]\n",
      " [ 6  7]\n",
      " [10 11]\n",
      " [14 15]]\n",
      "(4, 4)\n",
      "(4, 2)\n",
      "(4, 2)\n"
     ]
    }
   ],
   "source": [
    "A = np.arange(16).reshape((4,4))\n",
    "print('A=','\\n',A)\n",
    "[B,C] = np.hsplit(A,2)\n",
    "print('B = ','\\n',B)\n",
    "print('C = ','\\n',C)\n",
    "print(A.shape)\n",
    "print(B.shape)\n",
    "print(C.shape)\n",
    "#obviously this is an horizontal split, where the width of the array\n",
    "#is divided into two parts so 4x4 is split into 2x4"
   ]
  },
  {
   "cell_type": "code",
   "execution_count": 54,
   "metadata": {},
   "outputs": [
    {
     "name": "stdout",
     "output_type": "stream",
     "text": [
      "new B \n",
      " [[0 1 2 3]\n",
      " [4 5 6 7]]\n",
      "new C \n",
      " [[ 8  9 10 11]\n",
      " [12 13 14 15]]\n",
      "(2, 4)\n",
      "(2, 4)\n"
     ]
    }
   ],
   "source": [
    "[B,C] = np.vsplit(A,2)\n",
    "print('new B','\\n',B)\n",
    "print('new C','\\n',C)\n",
    "print(B.shape)\n",
    "print(C.shape)\n",
    "#this is split into 2 4x2 matrices"
   ]
  },
  {
   "cell_type": "code",
   "execution_count": 59,
   "metadata": {},
   "outputs": [
    {
     "name": "stdout",
     "output_type": "stream",
     "text": [
      "[[ 0  1  2  3]\n",
      " [ 4  5  6  7]\n",
      " [ 8  9 10 11]\n",
      " [12 13 14 15]]\n",
      "[[ 0]\n",
      " [ 4]\n",
      " [ 8]\n",
      " [12]]\n",
      "[[ 1  2]\n",
      " [ 5  6]\n",
      " [ 9 10]\n",
      " [13 14]]\n",
      "[[ 3]\n",
      " [ 7]\n",
      " [11]\n",
      " [15]]\n",
      "(4, 1)\n",
      "(4, 2)\n",
      "(4, 1)\n"
     ]
    }
   ],
   "source": [
    "print(A)\n",
    "[A1,A2,A3] = np.split(A, [1,3], axis=1)\n",
    "#is axis = 1, then the indexes will be cols\n",
    "print(A1)\n",
    "print(A2)\n",
    "print(A3)\n",
    "print(A1.shape)\n",
    "print(A2.shape)\n",
    "print(A3.shape)\n",
    "#the split function allows asymmetrical parts"
   ]
  },
  {
   "cell_type": "code",
   "execution_count": 60,
   "metadata": {},
   "outputs": [
    {
     "name": "stdout",
     "output_type": "stream",
     "text": [
      "[[ 0  1  2  3]\n",
      " [ 4  5  6  7]\n",
      " [ 8  9 10 11]\n",
      " [12 13 14 15]]\n",
      "[[0 1 2 3]]\n",
      "[[ 4  5  6  7]\n",
      " [ 8  9 10 11]]\n",
      "[[12 13 14 15]]\n",
      "(1, 4)\n",
      "(2, 4)\n",
      "(1, 4)\n"
     ]
    }
   ],
   "source": [
    "print(A)\n",
    "[A1,A2,A3] = np.split(A, [1,3], axis=0)\n",
    "#is axis = 0 then indexes will be row indexes\n",
    "print(A1)\n",
    "print(A2)\n",
    "print(A3)\n",
    "print(A1.shape)\n",
    "print(A2.shape)\n",
    "print(A3.shape)"
   ]
  },
  {
   "cell_type": "markdown",
   "metadata": {},
   "source": [
    "### General Concepts"
   ]
  },
  {
   "cell_type": "code",
   "execution_count": 61,
   "metadata": {},
   "outputs": [
    {
     "name": "stdout",
     "output_type": "stream",
     "text": [
      "[1 2 3 4]\n",
      "[1 2 0 4]\n"
     ]
    }
   ],
   "source": [
    "#none of the numpy assignments produces copies of arrays, nor\n",
    "#any element contained in them\n",
    "a = np.array([1,2,3,4])\n",
    "b = a\n",
    "print(b)\n",
    "a[2] = 0\n",
    "print(b)\n",
    "#if we assign one array \"a\" to \"b\" we aren't copying it but rather \n",
    "#just creating another way of calling 'a'\n",
    "#by changing a (3rd) value in 'a' you also change the (3rd) value\n",
    "#in 'b'"
   ]
  },
  {
   "cell_type": "code",
   "execution_count": 62,
   "metadata": {},
   "outputs": [
    {
     "name": "stdout",
     "output_type": "stream",
     "text": [
      "[1 2]\n",
      "[0 2]\n"
     ]
    }
   ],
   "source": [
    "c = a[0:2]\n",
    "print(c)\n",
    "a[0] = 0\n",
    "print(c)\n",
    "#even when slicing, you are actually pointing to the same object\n",
    "#if you want to generate a complete and distinct array use copy()"
   ]
  },
  {
   "cell_type": "code",
   "execution_count": 65,
   "metadata": {},
   "outputs": [
    {
     "name": "stdout",
     "output_type": "stream",
     "text": [
      "[1 2 3 4]\n",
      "[1 2 3 4]\n",
      "[1 2 3 4]\n",
      "[0 2 3 4]\n"
     ]
    }
   ],
   "source": [
    "a = np.array([1,2,3,4])\n",
    "print(a)\n",
    "c = a.copy()\n",
    "print(c)\n",
    "a[0] = 0\n",
    "print(c)\n",
    "print(a)"
   ]
  },
  {
   "cell_type": "markdown",
   "metadata": {},
   "source": [
    "### Vectorization/Broadcasting"
   ]
  },
  {
   "cell_type": "code",
   "execution_count": 77,
   "metadata": {},
   "outputs": [
    {
     "name": "stdout",
     "output_type": "stream",
     "text": [
      "A= \n",
      " [[ 0  1  2  3]\n",
      " [ 4  5  6  7]\n",
      " [ 8  9 10 11]\n",
      " [12 13 14 15]]\n",
      "b= \n",
      " [0 1 2 3]\n",
      "A+b= \n",
      " [[ 0  2  4  6]\n",
      " [ 4  6  8 10]\n",
      " [ 8 10 12 14]\n",
      " [12 14 16 18]]\n",
      "A*b= \n",
      " [[ 0  1  4  9]\n",
      " [ 0  5 12 21]\n",
      " [ 0  9 20 33]\n",
      " [ 0 13 28 45]]\n"
     ]
    }
   ],
   "source": [
    "#this is the basis of internal implementation of NumPy\n",
    "#vectorization is the absence of an explicit loop during development\n",
    "#of code\n",
    "#allows for 'Pythonic' code\n",
    "#allows for more mathematical expression of operations\n",
    "\n",
    "#broadcasting allows an operator or a function\n",
    "#toact on two or more arrays to operate even if the two arrays don't\n",
    "#have the same shape\n",
    "\n",
    "#although there are rules:\n",
    "#the two arrays must be compatible i.e., the length of each dimension\n",
    "#must be equal or one of them must be equal to 1.\n",
    "\n",
    "#shift+cmd+c shows underlying code in jupyter notebook\n",
    "A = np.arange(16).reshape(4,4)\n",
    "b = np.arange(4)\n",
    "print('A=','\\n',A)\n",
    "print('b=','\\n',b)\n",
    "print('A+b= \\n',A + b) #2nd rule\n",
    "print('A*b= \\n', A*b)\n",
    "\n",
    "#1st we must add a 1 to each missing dimension\n",
    "#2nd assumes the missing elements (size, length 1) are filled with\n",
    "#replicas of the values contanied in extrended sizes\n",
    "#"
   ]
  },
  {
   "cell_type": "code",
   "execution_count": 75,
   "metadata": {},
   "outputs": [],
   "source": [
    "#whereas other languages require a nested loop such as:\n",
    "#for(i = 0; i<rows; i++){\n",
    "#    c[i] = a[i]*b[i];\n",
    "#}\n",
    "\n",
    "#for matrix multiplication we have:\n",
    "\n",
    "#for(i=0; i<rows; i++){\n",
    "#    for(j=0; j< columns; j++){\n",
    "#        c[i][j] = a[i][j]*b[i][j];\n",
    "#    }\n",
    "#}"
   ]
  },
  {
   "cell_type": "code",
   "execution_count": 78,
   "metadata": {},
   "outputs": [
    {
     "name": "stdout",
     "output_type": "stream",
     "text": [
      "(3, 1, 2)\n",
      "(3, 2, 1)\n",
      "[[[0 1]]\n",
      "\n",
      " [[2 3]]\n",
      "\n",
      " [[4 5]]]\n",
      "[[[0]\n",
      "  [1]]\n",
      "\n",
      " [[2]\n",
      "  [3]]\n",
      "\n",
      " [[4]\n",
      "  [5]]]\n"
     ]
    },
    {
     "data": {
      "text/plain": [
       "array([[[ 0,  1],\n",
       "        [ 1,  2]],\n",
       "\n",
       "       [[ 4,  5],\n",
       "        [ 5,  6]],\n",
       "\n",
       "       [[ 8,  9],\n",
       "        [ 9, 10]]])"
      ]
     },
     "execution_count": 78,
     "metadata": {},
     "output_type": "execute_result"
    }
   ],
   "source": [
    "m = np.arange(6).reshape(3,1,2)\n",
    "print(m.shape)\n",
    "n = np.arange(6).reshape(3,2,1)\n",
    "print(n.shape)\n",
    "#these two are still compatible, and both arrays undergo extension\n",
    "print(m)\n",
    "print(n)\n",
    "m + n"
   ]
  },
  {
   "cell_type": "markdown",
   "metadata": {},
   "source": [
    "### Structured Arrays"
   ]
  },
  {
   "cell_type": "code",
   "execution_count": 79,
   "metadata": {},
   "outputs": [
    {
     "data": {
      "text/plain": [
       "array([(1, b'First',  0.5       ,  15.+2.j),\n",
       "       (2, b'Second',  1.29999995,   2.-2.j),\n",
       "       (3, b'Third',  0.80000001,   1.+3.j)],\n",
       "      dtype=[('f0', '<i2'), ('f1', 'S6'), ('f2', '<f4'), ('f3', '<c8')])"
      ]
     },
     "execution_count": 79,
     "metadata": {},
     "output_type": "execute_result"
    }
   ],
   "source": [
    "#these arrays contain structs or records instead of individual\n",
    "#items, for example, dtype option we can specify a list of\n",
    "#comma seperated specifiers to indicate the elements\n",
    "#then we can have a struct that has a integer, long strings and boolean\n",
    "#values but we must specify what we want\n",
    "\n",
    "structured = np.array([(1, 'First', 0.5, i+2j),(2, 'Second', 1.3, 2-2j),(3, 'Third', 0.8, 1+3j)], dtype=('i2, a6, f4, c8'))\n",
    "structured\n",
    "\n",
    "#data types:\n",
    "#\n",
    "#b1 = bytes\n",
    "#i1,i2,i4,i8 = int\n",
    "#u1,u2,u4,u8 = unsigned ints\n",
    "#f2,f4,f8 = floats\n",
    "#c8,c16 = complex\n",
    "#a<n> = fixed length strings"
   ]
  },
  {
   "cell_type": "code",
   "execution_count": 80,
   "metadata": {},
   "outputs": [
    {
     "data": {
      "text/plain": [
       "array([(1, b'First',  0.5       ,  15.+2.j),\n",
       "       (2, b'Second',  1.29999995,   2.-2.j),\n",
       "       (3, b'Third',  0.80000001,   1.+3.j)],\n",
       "      dtype=[('f0', '<i2'), ('f1', 'S6'), ('f2', '<f4'), ('f3', '<c8')])"
      ]
     },
     "execution_count": 80,
     "metadata": {},
     "output_type": "execute_result"
    }
   ],
   "source": [
    "structured = np.array([(1, 'First', 0.5, i+2j),(2, 'Second', 1.3, 2-2j),(3, 'Third', 0.8, 1+3j)], dtype=('int16, a6, float32, complex64'))\n",
    "structured\n",
    "#different way to create the struct, which is more explicit in \n",
    "#using the data structures"
   ]
  },
  {
   "cell_type": "code",
   "execution_count": 81,
   "metadata": {},
   "outputs": [
    {
     "data": {
      "text/plain": [
       "(2, b'Second',  1.29999995,  2.-2.j)"
      ]
     },
     "execution_count": 81,
     "metadata": {},
     "output_type": "execute_result"
    }
   ],
   "source": [
    "structured[1] #reference index points to 2nd entry"
   ]
  },
  {
   "cell_type": "code",
   "execution_count": 82,
   "metadata": {},
   "outputs": [
    {
     "data": {
      "text/plain": [
       "array([b'First', b'Second', b'Third'],\n",
       "      dtype='|S6')"
      ]
     },
     "execution_count": 82,
     "metadata": {},
     "output_type": "execute_result"
    }
   ],
   "source": [
    "structured['f1'] #can refer to all elements of same type or the same\n",
    "                 #columns, here the names are automatically assigned\n",
    "                 #with an f(which stands for field) and a progressive\n",
    "                 # integer that indicated the position in the sequence"
   ]
  },
  {
   "cell_type": "code",
   "execution_count": 83,
   "metadata": {},
   "outputs": [
    {
     "data": {
      "text/plain": [
       "array([(1, b'First',  0.5       ,  15.+2.j),\n",
       "       (2, b'Second',  1.29999995,   2.-2.j),\n",
       "       (3, b'Third',  0.80000001,   1.+3.j)],\n",
       "      dtype=[('id', '<i2'), ('position', 'S6'), ('value', '<f4'), ('complex', '<c8')])"
      ]
     },
     "execution_count": 83,
     "metadata": {},
     "output_type": "execute_result"
    }
   ],
   "source": [
    "structured = np.array([(1, 'First', 0.5, i+2j),(2, 'Second', 1.3, 2-2j),(3, 'Third', 0.8, 1+3j)],\\\n",
    "                      dtype=[('id','i2'),('position','a6'),('value','f4'),('complex','c8')])\n",
    "structured\n",
    "#providing an array declaration\n",
    "#we give names to int, string, and float with appropriate names"
   ]
  },
  {
   "cell_type": "code",
   "execution_count": 87,
   "metadata": {},
   "outputs": [
    {
     "data": {
      "text/plain": [
       "array([b'First', b'Second', b'Third'],\n",
       "      dtype='|S6')"
      ]
     },
     "execution_count": 87,
     "metadata": {},
     "output_type": "execute_result"
    }
   ],
   "source": [
    "#or can do it at a later time like in this case:\n",
    "structured.dtype.names = ('id', 'order', 'value', 'complex')\n",
    "structured['order']"
   ]
  },
  {
   "cell_type": "markdown",
   "metadata": {},
   "source": [
    "### Reading and Writing Array Data on Files"
   ]
  },
  {
   "cell_type": "code",
   "execution_count": 88,
   "metadata": {},
   "outputs": [
    {
     "data": {
      "text/plain": [
       "array([[ 0.20981048,  0.00372728,  0.04812263],\n",
       "       [ 0.56284731,  0.16479679,  0.60948204],\n",
       "       [ 0.79644153,  0.17662346,  0.18212944],\n",
       "       [ 0.98639314,  0.01720923,  0.8661358 ]])"
      ]
     },
     "execution_count": 88,
     "metadata": {},
     "output_type": "execute_result"
    }
   ],
   "source": [
    "data = np.random.random((4,3))\n",
    "data"
   ]
  },
  {
   "cell_type": "code",
   "execution_count": 89,
   "metadata": {
    "collapsed": true
   },
   "outputs": [],
   "source": [
    "np.save('saved_data', data) #automatically gets .npy extension"
   ]
  },
  {
   "cell_type": "code",
   "execution_count": 90,
   "metadata": {},
   "outputs": [
    {
     "data": {
      "text/plain": [
       "array([[ 0.20981048,  0.00372728,  0.04812263],\n",
       "       [ 0.56284731,  0.16479679,  0.60948204],\n",
       "       [ 0.79644153,  0.17662346,  0.18212944],\n",
       "       [ 0.98639314,  0.01720923,  0.8661358 ]])"
      ]
     },
     "execution_count": 90,
     "metadata": {},
     "output_type": "execute_result"
    }
   ],
   "source": [
    "loaded_data = np.load('saved_data.npy')\n",
    "loaded_data"
   ]
  },
  {
   "cell_type": "markdown",
   "metadata": {},
   "source": [
    "### Reading File with Tabular Data"
   ]
  },
  {
   "cell_type": "code",
   "execution_count": 91,
   "metadata": {},
   "outputs": [
    {
     "data": {
      "text/plain": [
       "array([( 1.,  123.,  1.4,  23.), ( 2.,  110.,  0.5,  18.),\n",
       "       ( 3.,  164.,  2.1,  19.)],\n",
       "      dtype=[('id', '<f8'), ('value1', '<f8'), ('value2', '<f8'), ('value3', '<f8')])"
      ]
     },
     "execution_count": 91,
     "metadata": {},
     "output_type": "execute_result"
    }
   ],
   "source": [
    "#this function implicitly performs 2 loops:\n",
    "    #one to read each line\n",
    "        #next to separate and convert the values contained in it\n",
    "data = np.genfromtxt('data.csv', delimiter=',', names=True)\n",
    "data"
   ]
  },
  {
   "cell_type": "code",
   "execution_count": 92,
   "metadata": {},
   "outputs": [
    {
     "data": {
      "text/plain": [
       "array([( 1.,  123.,  1.4,  23.), ( 2.,  110.,  0.5,  18.),\n",
       "       ( 3.,   nan,  2.1,  19.)],\n",
       "      dtype=[('id', '<f8'), ('value1', '<f8'), ('value2', '<f8'), ('value3', '<f8')])"
      ]
     },
     "execution_count": 92,
     "metadata": {},
     "output_type": "execute_result"
    }
   ],
   "source": [
    "data2 = np.genfromtxt('data2.csv', delimiter=',', names=True)\n",
    "data2\n",
    "#replaces the empty spaces with nan values"
   ]
  },
  {
   "cell_type": "code",
   "execution_count": 93,
   "metadata": {},
   "outputs": [
    {
     "data": {
      "text/plain": [
       "array([ 1.,  2.,  3.])"
      ]
     },
     "execution_count": 93,
     "metadata": {},
     "output_type": "execute_result"
    }
   ],
   "source": [
    "data2['id']"
   ]
  },
  {
   "cell_type": "code",
   "execution_count": 94,
   "metadata": {},
   "outputs": [
    {
     "data": {
      "text/plain": [
       "( 1.,  123.,  1.4,  23.)"
      ]
     },
     "execution_count": 94,
     "metadata": {},
     "output_type": "execute_result"
    }
   ],
   "source": [
    "data2[0]"
   ]
  },
  {
   "cell_type": "code",
   "execution_count": null,
   "metadata": {
    "collapsed": true
   },
   "outputs": [],
   "source": []
  }
 ],
 "metadata": {
  "kernelspec": {
   "display_name": "Python 3",
   "language": "python",
   "name": "python3"
  },
  "language_info": {
   "codemirror_mode": {
    "name": "ipython",
    "version": 3
   },
   "file_extension": ".py",
   "mimetype": "text/x-python",
   "name": "python",
   "nbconvert_exporter": "python",
   "pygments_lexer": "ipython3",
   "version": "3.6.3"
  }
 },
 "nbformat": 4,
 "nbformat_minor": 2
}
